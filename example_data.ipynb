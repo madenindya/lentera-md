{
 "cells": [
  {
   "cell_type": "markdown",
   "id": "chronic-struggle",
   "metadata": {},
   "source": [
    "### Loading data example"
   ]
  },
  {
   "cell_type": "markdown",
   "id": "stone-feedback",
   "metadata": {},
   "source": [
    "In this notebook, there will be:\n",
    "\n",
    "1. How to load data using huggingface dataset into Dataset\n",
    "2. How to transform Dataset into DataLoader"
   ]
  },
  {
   "cell_type": "code",
   "execution_count": null,
   "id": "suited-generic",
   "metadata": {},
   "outputs": [],
   "source": [
    "from tqdm import tqdm\n",
    "from transformers import AutoTokenizer"
   ]
  },
  {
   "cell_type": "code",
   "execution_count": null,
   "id": "living-processing",
   "metadata": {},
   "outputs": [],
   "source": [
    "max_length = 128\n",
    "batch_size = 8\n",
    "\n",
    "tokenizer = AutoTokenizer.from_pretrained(\"bert-base-uncased\", truncation=True)"
   ]
  },
  {
   "cell_type": "markdown",
   "id": "recorded-slovakia",
   "metadata": {},
   "source": [
    "  "
   ]
  },
  {
   "cell_type": "markdown",
   "id": "disabled-immunology",
   "metadata": {},
   "source": [
    "### Load text data into Dataset"
   ]
  },
  {
   "cell_type": "markdown",
   "id": "artistic-offering",
   "metadata": {},
   "source": [
    "Load text data using `datasets` library"
   ]
  },
  {
   "cell_type": "code",
   "execution_count": null,
   "id": "written-begin",
   "metadata": {},
   "outputs": [],
   "source": [
    "filename = \"./examples/data/text_forward.txt\""
   ]
  },
  {
   "cell_type": "code",
   "execution_count": null,
   "id": "finished-significance",
   "metadata": {},
   "outputs": [],
   "source": [
    "from datasets import load_dataset"
   ]
  },
  {
   "cell_type": "code",
   "execution_count": null,
   "id": "final-rubber",
   "metadata": {},
   "outputs": [],
   "source": [
    "# load data into Dataset\n",
    "ds = load_dataset(\"text\", data_files=filename)\n",
    "\n",
    "# tokenize\n",
    "def preprocess_function(examples):\n",
    "    return tokenizer(examples[\"text\"], truncation=True)\n",
    "\n",
    "# Dataset with correct format\n",
    "encoded_dataset = ds.map(preprocess_function, batched=True)"
   ]
  },
  {
   "cell_type": "code",
   "execution_count": null,
   "id": "immediate-vertical",
   "metadata": {},
   "outputs": [],
   "source": [
    "# ds['train'][:5] # uncomment to check\n",
    "# encoded_dataset['train'][:5] # uncomment to check"
   ]
  },
  {
   "cell_type": "code",
   "execution_count": null,
   "id": "peripheral-animal",
   "metadata": {},
   "outputs": [],
   "source": [
    "ds_train = encoded_dataset['train']"
   ]
  },
  {
   "cell_type": "markdown",
   "id": "improving-salmon",
   "metadata": {},
   "source": [
    "In project `newlm` we merge several data so that it would has len close to max_len and also minimize padding. \n",
    "<br>See: https://github.com/madenindya/newlm/blob/main/newlm/lm/bert/lm_builder.py#L120\n",
    "<br>Note: In this implementation, we do not allow truncation in the middle of sentence."
   ]
  },
  {
   "cell_type": "markdown",
   "id": "clean-denial",
   "metadata": {},
   "source": [
    "  "
   ]
  },
  {
   "cell_type": "markdown",
   "id": "magnetic-mortality",
   "metadata": {},
   "source": [
    "### Dataset into DataLoader"
   ]
  },
  {
   "cell_type": "markdown",
   "id": "divine-surge",
   "metadata": {},
   "source": [
    "Before we could train the data, usually the data need to be in DataLoader format which is iterable. \n",
    "See: https://pytorch.org/docs/stable/data.html"
   ]
  },
  {
   "cell_type": "markdown",
   "id": "foster-stephen",
   "metadata": {},
   "source": [
    "1. Data Collator\n",
    "\n",
    "PyTorch needs you to pass `collate_fn` to do it. Fortunately, huggingface alreader provide several collator that we could easily use.\n",
    "See: https://huggingface.co/docs/transformers/main_classes/data_collator"
   ]
  },
  {
   "cell_type": "code",
   "execution_count": null,
   "id": "adjusted-enlargement",
   "metadata": {},
   "outputs": [],
   "source": [
    "from transformers import DataCollatorForLanguageModeling\n",
    "\n",
    "data_collator = DataCollatorForLanguageModeling(\n",
    "    tokenizer=tokenizer,\n",
    "    mlm=True, # if false, it becomes like GPT\n",
    "    mlm_probability=0.15,\n",
    ")"
   ]
  },
  {
   "cell_type": "markdown",
   "id": "banner-stuff",
   "metadata": {},
   "source": [
    "You can create your own `collate_fn` but make sure the output format is the same"
   ]
  },
  {
   "cell_type": "markdown",
   "id": "declared-amazon",
   "metadata": {},
   "source": [
    "2. Get DataLoader"
   ]
  },
  {
   "cell_type": "markdown",
   "id": "aggregate-america",
   "metadata": {},
   "source": [
    "Huggingface Trainer internally has function to create DataLoader, thus we only need to pass the data and its collator"
   ]
  },
  {
   "cell_type": "code",
   "execution_count": null,
   "id": "statewide-female",
   "metadata": {},
   "outputs": [],
   "source": [
    "from transformers import TrainingArguments, Trainer, BertModel, BertConfig\n",
    "\n",
    "cfg = BertConfig()\n",
    "model = BertModel(cfg)\n",
    "\n",
    "# A helper function\n",
    "args = TrainingArguments(output_dir=\"tmpout\", per_device_train_batch_size=8)\n",
    "trainer = Trainer(model=model, args=args, data_collator=data_collator, train_dataset=ds_train)\n",
    "\n",
    "dl = trainer.get_train_dataloader() # called internally\n",
    "batch = next(iter(dl))\n",
    "# batch # uncomment to check"
   ]
  },
  {
   "cell_type": "markdown",
   "id": "atlantic-absorption",
   "metadata": {},
   "source": [
    "I recommend to copy the see: https://github.com/huggingface/transformers/blob/v4.17.0/src/transformers/trainer.py#L587 and simply modified the implementation."
   ]
  },
  {
   "cell_type": "markdown",
   "id": "decreased-cambodia",
   "metadata": {},
   "source": [
    "  "
   ]
  },
  {
   "cell_type": "markdown",
   "id": "educated-services",
   "metadata": {},
   "source": [
    "But, if you need to code it manually, here a brief example"
   ]
  },
  {
   "cell_type": "code",
   "execution_count": null,
   "id": "secret-thumb",
   "metadata": {},
   "outputs": [],
   "source": [
    "ds_train_man = [{'input_ids': x['input_ids']} for x in ds_train]\n",
    "# ds_train[:10]"
   ]
  },
  {
   "cell_type": "markdown",
   "id": "dominican-compromise",
   "metadata": {},
   "source": [
    "A very basic implementation for DataLoader"
   ]
  },
  {
   "cell_type": "code",
   "execution_count": null,
   "id": "floppy-lindsay",
   "metadata": {},
   "outputs": [],
   "source": [
    "from torch.utils.data.sampler import RandomSampler, SequentialSampler\n",
    "train_sampler = RandomSampler(ds_train_man)\n",
    "# eval_sampler = RandomSampler(ds_train_man)\n",
    "\n",
    "dl = DataLoader(\n",
    "    ds_train_man,\n",
    "    batch_size=batch_size,\n",
    "    sampler=train_sampler,\n",
    "    collate_fn=data_collator,\n",
    ")"
   ]
  },
  {
   "cell_type": "code",
   "execution_count": null,
   "id": "consistent-project",
   "metadata": {},
   "outputs": [],
   "source": [
    "batch = next(iter(dl))\n",
    "# batch # uncomment to check"
   ]
  },
  {
   "cell_type": "markdown",
   "id": "cardiac-marathon",
   "metadata": {},
   "source": [
    "After you have this DataLoader format, you can easily pass the data into PyTorch Ligtning Trainer: https://pytorch-lightning.readthedocs.io/en/latest/common/trainer.html"
   ]
  }
 ],
 "metadata": {
  "kernelspec": {
   "display_name": "Python 3",
   "language": "python",
   "name": "python3"
  },
  "language_info": {
   "codemirror_mode": {
    "name": "ipython",
    "version": 3
   },
   "file_extension": ".py",
   "mimetype": "text/x-python",
   "name": "python",
   "nbconvert_exporter": "python",
   "pygments_lexer": "ipython3",
   "version": "3.8.5"
  }
 },
 "nbformat": 4,
 "nbformat_minor": 5
}
